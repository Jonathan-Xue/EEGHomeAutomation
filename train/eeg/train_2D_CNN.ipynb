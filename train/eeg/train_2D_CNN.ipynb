{
  "nbformat": 4,
  "nbformat_minor": 0,
  "metadata": {
    "colab": {
      "name": "CS598_2D_CNN",
      "provenance": [],
      "collapsed_sections": [],
      "machine_shape": "hm"
    },
    "kernelspec": {
      "name": "python3",
      "display_name": "Python 3"
    },
    "accelerator": "GPU"
  },
  "cells": [
    {
      "cell_type": "code",
      "metadata": {
        "id": "0uxYtgLT5guY",
        "colab": {
          "base_uri": "https://localhost:8080/"
        },
        "outputId": "a6469bf4-3fe3-43fc-ebc5-5af228bd11a0"
      },
      "source": [
        "%tensorflow_version 2.x\n",
        "import tensorflow as tf\n",
        "device_name = tf.test.gpu_device_name()\n",
        "if device_name != '/device:GPU:0':\n",
        "  raise SystemError('GPU device not found')\n",
        "print('Found GPU at: {}'.format(device_name))"
      ],
      "execution_count": null,
      "outputs": [
        {
          "output_type": "stream",
          "name": "stdout",
          "text": [
            "Found GPU at: /device:GPU:0\n"
          ]
        }
      ]
    },
    {
      "cell_type": "code",
      "metadata": {
        "id": "xKK8vo9l6AV0"
      },
      "source": [
        "from sklearn.model_selection import train_test_split\n",
        "from sklearn.preprocessing import OneHotEncoder\n",
        "from sklearn.metrics import classification_report\n",
        "from tensorflow.keras.layers import Input, BatchNormalization, Conv2D, MaxPooling2D, Flatten, Dense, ReLU, LeakyReLU, Dropout, Conv1D, GlobalMaxPooling2D, GlobalAveragePooling2D, PReLU, ELU\n",
        "from tensorflow.keras.regularizers import l2, l1_l2, l1\n",
        "from tensorflow.keras.models import Model, load_model, save_model\n",
        "from tensorflow.keras.optimizers import Adam, RMSprop\n",
        "from tensorflow.keras.callbacks import LearningRateScheduler, EarlyStopping\n",
        "from tensorflow.keras.utils import to_categorical\n",
        "from tensorflow.keras.wrappers.scikit_learn import KerasClassifier\n",
        "from sklearn.model_selection import StratifiedKFold\n",
        "from sklearn.model_selection import cross_val_score\n",
        "from sklearn.preprocessing import LabelEncoder\n",
        "from sklearn.preprocessing import StandardScaler\n",
        "from sklearn.pipeline import Pipeline\n",
        "import matplotlib.pyplot as plt\n",
        "import numpy as np\n",
        "import csv\n",
        "import os\n",
        "import glob\n",
        "import pandas as pd"
      ],
      "execution_count": null,
      "outputs": []
    },
    {
      "cell_type": "code",
      "source": [
        "!git clone https://gitlab.com/siddinc/cs598-eeg-data.git"
      ],
      "metadata": {
        "colab": {
          "base_uri": "https://localhost:8080/"
        },
        "id": "-TE3-bmAPhWA",
        "outputId": "20b8af93-f5cf-4057-ed5e-d8b3429e6a7e"
      },
      "execution_count": null,
      "outputs": [
        {
          "output_type": "stream",
          "name": "stdout",
          "text": [
            "Cloning into 'cs598-eeg-data'...\n",
            "remote: Enumerating objects: 324, done.\u001b[K\n",
            "remote: Counting objects: 100% (55/55), done.\u001b[K\n",
            "remote: Compressing objects: 100% (55/55), done.\u001b[K\n",
            "remote: Total 324 (delta 0), reused 0 (delta 0), pack-reused 269\u001b[K\n",
            "Receiving objects: 100% (324/324), 44.11 MiB | 12.71 MiB/s, done.\n",
            "Resolving deltas: 100% (7/7), done.\n"
          ]
        }
      ]
    },
    {
      "cell_type": "code",
      "metadata": {
        "id": "cIQYzZ1yJJOH"
      },
      "source": [
        "def min_max_scaling(vector):\n",
        "  normalized_vector = (vector - vector.min()) / (vector.max() - vector.min())\n",
        "  return normalized_vector\n",
        "\n",
        "def build_dataset(dst_path):\n",
        "  dataset = {}\n",
        "  data = glob.glob(dst_path)\n",
        "\n",
        "  batch = np.zeros((50, 75, 100, 4), dtype=np.float64)\n",
        "  gt_labels = []\n",
        "\n",
        "  for i, file_path in enumerate(data):\n",
        "    gt_labels.append(file_path.split(\"/\")[4])\n",
        "    x = np.load(file_path)\n",
        "    batch[i] = x\n",
        "\n",
        "  dataset['x'] = batch\n",
        "  dataset['y'] = gt_labels\n",
        "  return dataset"
      ],
      "execution_count": null,
      "outputs": []
    },
    {
      "cell_type": "code",
      "metadata": {
        "id": "_aFIgsWJuFK_"
      },
      "source": [
        "dataset = build_dataset(\"/content/cs598-eeg-data/data_v3_spec/*/*\")"
      ],
      "execution_count": null,
      "outputs": []
    },
    {
      "cell_type": "code",
      "metadata": {
        "id": "W75NoJKaYVPq",
        "colab": {
          "base_uri": "https://localhost:8080/"
        },
        "outputId": "ce28c6df-da5a-4e45-e999-43cf529cec1b"
      },
      "source": [
        "print(dataset['x'].shape, dataset['x'].dtype)\n",
        "print(len(dataset['y']), type(dataset[\"y\"][0]))"
      ],
      "execution_count": null,
      "outputs": [
        {
          "output_type": "stream",
          "name": "stdout",
          "text": [
            "(50, 75, 100, 4) float64\n",
            "50 <class 'str'>\n"
          ]
        }
      ]
    },
    {
      "cell_type": "code",
      "metadata": {
        "id": "9_Dq2jpoY-qa"
      },
      "source": [
        "def preprocess_dataset(dataset, test_size=0.0, val_size=0.2):\n",
        "  x = dataset[\"x\"]\n",
        "  y = []\n",
        "\n",
        "  for i in dataset[\"y\"]:\n",
        "    if i == \"turn_on\":\n",
        "      y.append(1.)\n",
        "    else:\n",
        "      y.append(0.)\n",
        "  \n",
        "  y = np.array(y)\n",
        "  x_train, x_test, y_train, y_test = train_test_split(x, y, test_size=test_size, random_state=42, shuffle=True, stratify=y)\n",
        "  x_train, x_val, y_train, y_val = train_test_split(x_train, y_train, test_size=val_size, random_state=42, shuffle=True, stratify=y_train)\n",
        "\n",
        "  print(x_train.shape, y_train.shape)\n",
        "  print(x_val.shape, y_val.shape)\n",
        "  print(x_test.shape, y_test.shape)\n",
        "\n",
        "  return x_train, x_val, x_test, y_train, y_val, y_test"
      ],
      "execution_count": null,
      "outputs": []
    },
    {
      "cell_type": "code",
      "metadata": {
        "id": "7uH1DqqtaUdL",
        "colab": {
          "base_uri": "https://localhost:8080/"
        },
        "outputId": "e12bd68f-083e-4f66-a2e7-824fe435e144"
      },
      "source": [
        "x_train, x_val, x_test, y_train, y_val, y_test = preprocess_dataset(dataset, 0.15, 0.4)"
      ],
      "execution_count": null,
      "outputs": [
        {
          "output_type": "stream",
          "name": "stdout",
          "text": [
            "(25, 75, 100, 4) (25,)\n",
            "(17, 75, 100, 4) (17,)\n",
            "(8, 75, 100, 4) (8,)\n"
          ]
        }
      ]
    },
    {
      "cell_type": "code",
      "source": [
        "def poly_decay(epoch):\n",
        "    maxEpochs = EPOCHS\n",
        "    baseLR = INIT_LR\n",
        "    power = 1.0\n",
        "\n",
        "    alpha = baseLR * (1 - (epoch / float(maxEpochs))) ** power\n",
        "    return alpha"
      ],
      "metadata": {
        "id": "N2sXM78RiZ4l"
      },
      "execution_count": null,
      "outputs": []
    },
    {
      "cell_type": "code",
      "metadata": {
        "id": "duyCkldcucxC"
      },
      "source": [
        "def build_model(height, width, channels):\n",
        "  i = Input(shape=(height, width, channels))\n",
        "\n",
        "  x = Conv2D(4, (3, 3), padding='same', kernel_regularizer=l1_l2())(i)\n",
        "  x = LeakyReLU(alpha=0.2)(x)\n",
        "  x = BatchNormalization()(x)\n",
        "\n",
        "  x = Conv2D(4, (3, 3), padding='same', kernel_regularizer=l1_l2())(x)\n",
        "  x = LeakyReLU(alpha=0.2)(x)\n",
        "  x = BatchNormalization()(x)\n",
        "\n",
        "  x = MaxPooling2D(pool_size=(2, 2))(x)\n",
        "\n",
        "  x = Conv2D(8, (3, 3), padding='same', kernel_regularizer=l1_l2())(x)\n",
        "  x = LeakyReLU(alpha=0.2)(x)\n",
        "  x = BatchNormalization()(x)\n",
        "\n",
        "  x = Conv2D(8, (3, 3), padding='same', kernel_regularizer=l1_l2())(x)\n",
        "  x = LeakyReLU(alpha=0.2)(x)\n",
        "  x = BatchNormalization()(x)\n",
        "\n",
        "  x = MaxPooling2D(pool_size=(2, 2))(x)\n",
        "\n",
        "  x = Conv2D(16, (3, 3), padding='same', kernel_regularizer=l1_l2())(x)\n",
        "  x = LeakyReLU(alpha=0.2)(x)\n",
        "  x = BatchNormalization()(x)\n",
        "\n",
        "  x = Conv2D(16, (3, 3), padding='same', kernel_regularizer=l1_l2())(x)\n",
        "  x = LeakyReLU(alpha=0.2)(x)\n",
        "  x = BatchNormalization()(x)\n",
        "\n",
        "  x = MaxPooling2D(pool_size=(2, 2))(x)\n",
        "\n",
        "  x = Conv2D(32, (3, 3), padding='same', kernel_regularizer=l1_l2())(x)\n",
        "  x = LeakyReLU(alpha=0.2)(x)\n",
        "  x = BatchNormalization()(x)\n",
        "\n",
        "  x = Conv2D(32, (3, 3), padding='same', kernel_regularizer=l1_l2())(x)\n",
        "  x = LeakyReLU(alpha=0.2)(x)\n",
        "  x = BatchNormalization()(x)\n",
        "\n",
        "  x = Flatten()(x)\n",
        "  x = Dropout(0.6)(x)\n",
        "\n",
        "  x = Dense(1, activation='sigmoid')(x)\n",
        "  \n",
        "  model = Model(inputs=i, outputs=x)\n",
        "  return model\n",
        "\n",
        "  model = Model(i, x)\n",
        "  return model"
      ],
      "execution_count": null,
      "outputs": []
    },
    {
      "cell_type": "code",
      "source": [
        "model = build_model(75,100,4)\n",
        "model.summary()"
      ],
      "metadata": {
        "colab": {
          "base_uri": "https://localhost:8080/"
        },
        "id": "rLM8YywGlVxn",
        "outputId": "fc2579a2-c064-4591-bc09-59c03c69a770"
      },
      "execution_count": null,
      "outputs": [
        {
          "output_type": "stream",
          "name": "stdout",
          "text": [
            "Model: \"model_5\"\n",
            "_________________________________________________________________\n",
            " Layer (type)                Output Shape              Param #   \n",
            "=================================================================\n",
            " input_6 (InputLayer)        [(None, 75, 100, 4)]      0         \n",
            "                                                                 \n",
            " conv2d_30 (Conv2D)          (None, 75, 100, 4)        148       \n",
            "                                                                 \n",
            " leaky_re_lu_30 (LeakyReLU)  (None, 75, 100, 4)        0         \n",
            "                                                                 \n",
            " batch_normalization_30 (Bat  (None, 75, 100, 4)       16        \n",
            " chNormalization)                                                \n",
            "                                                                 \n",
            " conv2d_31 (Conv2D)          (None, 75, 100, 4)        148       \n",
            "                                                                 \n",
            " leaky_re_lu_31 (LeakyReLU)  (None, 75, 100, 4)        0         \n",
            "                                                                 \n",
            " batch_normalization_31 (Bat  (None, 75, 100, 4)       16        \n",
            " chNormalization)                                                \n",
            "                                                                 \n",
            " max_pooling2d_10 (MaxPoolin  (None, 37, 50, 4)        0         \n",
            " g2D)                                                            \n",
            "                                                                 \n",
            " conv2d_32 (Conv2D)          (None, 37, 50, 8)         296       \n",
            "                                                                 \n",
            " leaky_re_lu_32 (LeakyReLU)  (None, 37, 50, 8)         0         \n",
            "                                                                 \n",
            " batch_normalization_32 (Bat  (None, 37, 50, 8)        32        \n",
            " chNormalization)                                                \n",
            "                                                                 \n",
            " conv2d_33 (Conv2D)          (None, 37, 50, 8)         584       \n",
            "                                                                 \n",
            " leaky_re_lu_33 (LeakyReLU)  (None, 37, 50, 8)         0         \n",
            "                                                                 \n",
            " batch_normalization_33 (Bat  (None, 37, 50, 8)        32        \n",
            " chNormalization)                                                \n",
            "                                                                 \n",
            " max_pooling2d_11 (MaxPoolin  (None, 18, 25, 8)        0         \n",
            " g2D)                                                            \n",
            "                                                                 \n",
            " conv2d_34 (Conv2D)          (None, 18, 25, 16)        1168      \n",
            "                                                                 \n",
            " leaky_re_lu_34 (LeakyReLU)  (None, 18, 25, 16)        0         \n",
            "                                                                 \n",
            " batch_normalization_34 (Bat  (None, 18, 25, 16)       64        \n",
            " chNormalization)                                                \n",
            "                                                                 \n",
            " conv2d_35 (Conv2D)          (None, 18, 25, 16)        2320      \n",
            "                                                                 \n",
            " leaky_re_lu_35 (LeakyReLU)  (None, 18, 25, 16)        0         \n",
            "                                                                 \n",
            " batch_normalization_35 (Bat  (None, 18, 25, 16)       64        \n",
            " chNormalization)                                                \n",
            "                                                                 \n",
            " max_pooling2d_12 (MaxPoolin  (None, 9, 12, 16)        0         \n",
            " g2D)                                                            \n",
            "                                                                 \n",
            " conv2d_36 (Conv2D)          (None, 9, 12, 32)         4640      \n",
            "                                                                 \n",
            " leaky_re_lu_36 (LeakyReLU)  (None, 9, 12, 32)         0         \n",
            "                                                                 \n",
            " batch_normalization_36 (Bat  (None, 9, 12, 32)        128       \n",
            " chNormalization)                                                \n",
            "                                                                 \n",
            " conv2d_37 (Conv2D)          (None, 9, 12, 32)         9248      \n",
            "                                                                 \n",
            " leaky_re_lu_37 (LeakyReLU)  (None, 9, 12, 32)         0         \n",
            "                                                                 \n",
            " batch_normalization_37 (Bat  (None, 9, 12, 32)        128       \n",
            " chNormalization)                                                \n",
            "                                                                 \n",
            " flatten_5 (Flatten)         (None, 3456)              0         \n",
            "                                                                 \n",
            " dropout_5 (Dropout)         (None, 3456)              0         \n",
            "                                                                 \n",
            " dense_5 (Dense)             (None, 1)                 3457      \n",
            "                                                                 \n",
            "=================================================================\n",
            "Total params: 22,489\n",
            "Trainable params: 22,249\n",
            "Non-trainable params: 240\n",
            "_________________________________________________________________\n"
          ]
        }
      ]
    },
    {
      "cell_type": "code",
      "metadata": {
        "id": "aW_QmGvNvjq0"
      },
      "source": [
        "INIT_LR = 0.0001\n",
        "EPOCHS = 50\n",
        "BATCH_SIZE = 2\n",
        "STEPS_PER_EPOCH = x_train.shape[0] // BATCH_SIZE\n",
        "VALIDATION_STEPS = x_val.shape[0] // BATCH_SIZE\n",
        "callbacks = [LearningRateScheduler(poly_decay)]\n",
        "\n",
        "opt = Adam(learning_rate=INIT_LR, amsgrad=True)\n",
        "model.compile(loss='binary_crossentropy', metrics=['accuracy'], optimizer=opt)"
      ],
      "execution_count": null,
      "outputs": []
    },
    {
      "cell_type": "code",
      "metadata": {
        "id": "6eSdf_VZD5mW",
        "colab": {
          "base_uri": "https://localhost:8080/"
        },
        "outputId": "04df0026-5551-4f36-f6df-44e0a61d6b30"
      },
      "source": [
        "r = model.fit(\n",
        "  x_train, y_train,\n",
        "  validation_data=(x_val, y_val),\n",
        "  epochs=EPOCHS, batch_size=BATCH_SIZE,\n",
        "  steps_per_epoch=STEPS_PER_EPOCH,\n",
        "  validation_steps=VALIDATION_STEPS,\n",
        "  callbacks=callbacks\n",
        ")"
      ],
      "execution_count": null,
      "outputs": [
        {
          "output_type": "stream",
          "name": "stdout",
          "text": [
            "Epoch 1/50\n",
            "12/12 [==============================] - 3s 58ms/step - loss: 13.8022 - accuracy: 0.4167 - val_loss: 13.0977 - val_accuracy: 0.4375 - lr: 1.0000e-04\n",
            "Epoch 2/50\n",
            "12/12 [==============================] - 0s 18ms/step - loss: 13.2751 - accuracy: 0.6522 - val_loss: 13.0907 - val_accuracy: 0.4375 - lr: 9.8000e-05\n",
            "Epoch 3/50\n",
            "12/12 [==============================] - 0s 17ms/step - loss: 13.1127 - accuracy: 0.6522 - val_loss: 13.0824 - val_accuracy: 0.4375 - lr: 9.6000e-05\n",
            "Epoch 4/50\n",
            "12/12 [==============================] - 0s 19ms/step - loss: 12.7468 - accuracy: 0.7826 - val_loss: 13.0739 - val_accuracy: 0.4375 - lr: 9.4000e-05\n",
            "Epoch 5/50\n",
            "12/12 [==============================] - 0s 18ms/step - loss: 12.6827 - accuracy: 0.8696 - val_loss: 13.0648 - val_accuracy: 0.4375 - lr: 9.2000e-05\n",
            "Epoch 6/50\n",
            "12/12 [==============================] - 0s 20ms/step - loss: 13.0263 - accuracy: 0.6957 - val_loss: 13.0540 - val_accuracy: 0.4375 - lr: 9.0000e-05\n",
            "Epoch 7/50\n",
            "12/12 [==============================] - 0s 18ms/step - loss: 12.9691 - accuracy: 0.7391 - val_loss: 13.0420 - val_accuracy: 0.4375 - lr: 8.8000e-05\n",
            "Epoch 8/50\n",
            "12/12 [==============================] - 0s 20ms/step - loss: 12.8337 - accuracy: 0.7391 - val_loss: 13.0299 - val_accuracy: 0.4375 - lr: 8.6000e-05\n",
            "Epoch 9/50\n",
            "12/12 [==============================] - 0s 19ms/step - loss: 12.6496 - accuracy: 0.7826 - val_loss: 13.0171 - val_accuracy: 0.4375 - lr: 8.4000e-05\n",
            "Epoch 10/50\n",
            "12/12 [==============================] - 0s 18ms/step - loss: 12.6582 - accuracy: 0.9130 - val_loss: 13.0018 - val_accuracy: 0.4375 - lr: 8.2000e-05\n",
            "Epoch 11/50\n",
            "12/12 [==============================] - 0s 19ms/step - loss: 12.6270 - accuracy: 0.8261 - val_loss: 12.9869 - val_accuracy: 0.4375 - lr: 8.0000e-05\n",
            "Epoch 12/50\n",
            "12/12 [==============================] - 0s 19ms/step - loss: 12.4713 - accuracy: 0.9130 - val_loss: 12.9716 - val_accuracy: 0.3750 - lr: 7.8000e-05\n",
            "Epoch 13/50\n",
            "12/12 [==============================] - 0s 19ms/step - loss: 12.3581 - accuracy: 0.9565 - val_loss: 12.9579 - val_accuracy: 0.3750 - lr: 7.6000e-05\n",
            "Epoch 14/50\n",
            "12/12 [==============================] - 0s 19ms/step - loss: 12.3695 - accuracy: 1.0000 - val_loss: 12.9428 - val_accuracy: 0.5000 - lr: 7.4000e-05\n",
            "Epoch 15/50\n",
            "12/12 [==============================] - 0s 21ms/step - loss: 12.3804 - accuracy: 0.9565 - val_loss: 12.9273 - val_accuracy: 0.5625 - lr: 7.2000e-05\n",
            "Epoch 16/50\n",
            "12/12 [==============================] - 0s 20ms/step - loss: 12.3589 - accuracy: 0.9565 - val_loss: 12.9094 - val_accuracy: 0.5625 - lr: 7.0000e-05\n",
            "Epoch 17/50\n",
            "12/12 [==============================] - 0s 17ms/step - loss: 12.4525 - accuracy: 0.8696 - val_loss: 12.8893 - val_accuracy: 0.5000 - lr: 6.8000e-05\n",
            "Epoch 18/50\n",
            "12/12 [==============================] - 0s 19ms/step - loss: 12.3039 - accuracy: 0.9565 - val_loss: 12.8677 - val_accuracy: 0.5000 - lr: 6.6000e-05\n",
            "Epoch 19/50\n",
            "12/12 [==============================] - 0s 18ms/step - loss: 12.3396 - accuracy: 0.9130 - val_loss: 12.8494 - val_accuracy: 0.6250 - lr: 6.4000e-05\n",
            "Epoch 20/50\n",
            "12/12 [==============================] - 0s 18ms/step - loss: 12.4924 - accuracy: 0.8696 - val_loss: 12.8341 - val_accuracy: 0.6250 - lr: 6.2000e-05\n",
            "Epoch 21/50\n",
            "12/12 [==============================] - 0s 18ms/step - loss: 12.3168 - accuracy: 0.9130 - val_loss: 12.8204 - val_accuracy: 0.6250 - lr: 6.0000e-05\n",
            "Epoch 22/50\n",
            "12/12 [==============================] - 0s 19ms/step - loss: 12.2196 - accuracy: 1.0000 - val_loss: 12.8063 - val_accuracy: 0.6250 - lr: 5.8000e-05\n",
            "Epoch 23/50\n",
            "12/12 [==============================] - 0s 19ms/step - loss: 12.2044 - accuracy: 1.0000 - val_loss: 12.7946 - val_accuracy: 0.5625 - lr: 5.6000e-05\n",
            "Epoch 24/50\n",
            "12/12 [==============================] - 0s 18ms/step - loss: 12.3103 - accuracy: 0.9565 - val_loss: 12.7768 - val_accuracy: 0.5625 - lr: 5.4000e-05\n",
            "Epoch 25/50\n",
            "12/12 [==============================] - 0s 18ms/step - loss: 12.3694 - accuracy: 0.8696 - val_loss: 12.7543 - val_accuracy: 0.6250 - lr: 5.2000e-05\n",
            "Epoch 26/50\n",
            "12/12 [==============================] - 0s 18ms/step - loss: 12.2041 - accuracy: 0.9565 - val_loss: 12.7239 - val_accuracy: 0.6875 - lr: 5.0000e-05\n",
            "Epoch 27/50\n",
            "12/12 [==============================] - 0s 22ms/step - loss: 12.1911 - accuracy: 1.0000 - val_loss: 12.6915 - val_accuracy: 0.7500 - lr: 4.8000e-05\n",
            "Epoch 28/50\n",
            "12/12 [==============================] - 0s 18ms/step - loss: 12.1683 - accuracy: 1.0000 - val_loss: 12.6587 - val_accuracy: 0.7500 - lr: 4.6000e-05\n",
            "Epoch 29/50\n",
            "12/12 [==============================] - 0s 19ms/step - loss: 12.2248 - accuracy: 0.9565 - val_loss: 12.6251 - val_accuracy: 0.8125 - lr: 4.4000e-05\n",
            "Epoch 30/50\n",
            "12/12 [==============================] - 0s 21ms/step - loss: 12.1943 - accuracy: 0.9565 - val_loss: 12.5958 - val_accuracy: 0.8125 - lr: 4.2000e-05\n",
            "Epoch 31/50\n",
            "12/12 [==============================] - 0s 19ms/step - loss: 12.1314 - accuracy: 1.0000 - val_loss: 12.5744 - val_accuracy: 0.8125 - lr: 4.0000e-05\n",
            "Epoch 32/50\n",
            "12/12 [==============================] - 0s 20ms/step - loss: 12.1375 - accuracy: 1.0000 - val_loss: 12.5567 - val_accuracy: 0.8125 - lr: 3.8000e-05\n",
            "Epoch 33/50\n",
            "12/12 [==============================] - 0s 18ms/step - loss: 12.1269 - accuracy: 1.0000 - val_loss: 12.5495 - val_accuracy: 0.8125 - lr: 3.6000e-05\n",
            "Epoch 34/50\n",
            "12/12 [==============================] - 0s 18ms/step - loss: 12.0856 - accuracy: 1.0000 - val_loss: 12.5458 - val_accuracy: 0.8125 - lr: 3.4000e-05\n",
            "Epoch 35/50\n",
            "12/12 [==============================] - 0s 18ms/step - loss: 12.0817 - accuracy: 1.0000 - val_loss: 12.5372 - val_accuracy: 0.8125 - lr: 3.2000e-05\n",
            "Epoch 36/50\n",
            "12/12 [==============================] - 0s 19ms/step - loss: 12.0577 - accuracy: 1.0000 - val_loss: 12.5254 - val_accuracy: 0.8125 - lr: 3.0000e-05\n",
            "Epoch 37/50\n",
            "12/12 [==============================] - 0s 18ms/step - loss: 12.0916 - accuracy: 1.0000 - val_loss: 12.5164 - val_accuracy: 0.8125 - lr: 2.8000e-05\n",
            "Epoch 38/50\n",
            "12/12 [==============================] - 0s 17ms/step - loss: 12.0562 - accuracy: 1.0000 - val_loss: 12.5051 - val_accuracy: 0.8125 - lr: 2.6000e-05\n",
            "Epoch 39/50\n",
            "12/12 [==============================] - 0s 20ms/step - loss: 12.0653 - accuracy: 1.0000 - val_loss: 12.4963 - val_accuracy: 0.8125 - lr: 2.4000e-05\n",
            "Epoch 40/50\n",
            "12/12 [==============================] - 0s 21ms/step - loss: 12.0792 - accuracy: 1.0000 - val_loss: 12.4901 - val_accuracy: 0.8125 - lr: 2.2000e-05\n",
            "Epoch 41/50\n",
            "12/12 [==============================] - 0s 20ms/step - loss: 12.0935 - accuracy: 0.9565 - val_loss: 12.4868 - val_accuracy: 0.8125 - lr: 2.0000e-05\n",
            "Epoch 42/50\n",
            "12/12 [==============================] - 0s 18ms/step - loss: 12.0908 - accuracy: 0.9565 - val_loss: 12.4806 - val_accuracy: 0.8125 - lr: 1.8000e-05\n",
            "Epoch 43/50\n",
            "12/12 [==============================] - 0s 21ms/step - loss: 12.0338 - accuracy: 1.0000 - val_loss: 12.4734 - val_accuracy: 0.8125 - lr: 1.6000e-05\n",
            "Epoch 44/50\n",
            "12/12 [==============================] - 0s 19ms/step - loss: 12.1153 - accuracy: 0.9565 - val_loss: 12.4614 - val_accuracy: 0.8125 - lr: 1.4000e-05\n",
            "Epoch 45/50\n",
            "12/12 [==============================] - 0s 18ms/step - loss: 11.9912 - accuracy: 1.0000 - val_loss: 12.4537 - val_accuracy: 0.8125 - lr: 1.2000e-05\n",
            "Epoch 46/50\n",
            "12/12 [==============================] - 0s 20ms/step - loss: 12.0477 - accuracy: 0.9565 - val_loss: 12.4470 - val_accuracy: 0.8125 - lr: 1.0000e-05\n",
            "Epoch 47/50\n",
            "12/12 [==============================] - 0s 20ms/step - loss: 12.0928 - accuracy: 0.9565 - val_loss: 12.4411 - val_accuracy: 0.8125 - lr: 8.0000e-06\n",
            "Epoch 48/50\n",
            "12/12 [==============================] - 0s 20ms/step - loss: 11.9844 - accuracy: 1.0000 - val_loss: 12.4364 - val_accuracy: 0.8125 - lr: 6.0000e-06\n",
            "Epoch 49/50\n",
            "12/12 [==============================] - 0s 21ms/step - loss: 11.9920 - accuracy: 1.0000 - val_loss: 12.4302 - val_accuracy: 0.8125 - lr: 4.0000e-06\n",
            "Epoch 50/50\n",
            "12/12 [==============================] - 0s 19ms/step - loss: 12.0788 - accuracy: 0.9565 - val_loss: 12.4268 - val_accuracy: 0.8125 - lr: 2.0000e-06\n"
          ]
        }
      ]
    },
    {
      "cell_type": "code",
      "metadata": {
        "id": "PxK383OziaQL",
        "colab": {
          "base_uri": "https://localhost:8080/",
          "height": 319
        },
        "outputId": "d83ec9c5-dfc7-4b63-f47a-c1c55bc25df3"
      },
      "source": [
        "import matplotlib.pyplot as plt\n",
        "from matplotlib.ticker import ScalarFormatter,AutoMinorLocator\n",
        "import matplotlib as mpl\n",
        "import json\n",
        "plt.style.use('./fig.mplstyle')\n",
        "\n",
        "fig, ax = plt.subplots()\n",
        "\n",
        "# plt.xticks(np.arange(0,EPOCHS, 2))\n",
        "\n",
        "ax.plot(r.history[\"loss\"], linestyle = '-', lw=2, label=\"Train Loss\", alpha=1)\n",
        "ax.plot(r.history[\"val_loss\"], linestyle = '-', lw=2, label=\"Val Loss\", alpha=1)\n",
        "ax.plot(r.history[\"accuracy\"], linestyle = '-', lw=2, label=\"Train Accuracy\", alpha=1)\n",
        "ax.plot(r.history[\"val_accuracy\"], linestyle = '-', lw=2, label=\"Val Accuracy\", alpha=1)\n",
        "\n",
        "ax.set_xlabel('Epochs')\n",
        "ax.set_ylabel('Loss/Accuracy')\n",
        "\n",
        "ax.yaxis.set_major_formatter(ScalarFormatter())\n",
        "ax.yaxis.set_minor_locator(  AutoMinorLocator(5))\n",
        "ax.yaxis.major.formatter._useMathText = True\n",
        "ax.legend(frameon=True, loc='best',ncol=1, handlelength=2, framealpha=1, edgecolor=\"0.8\", fancybox=False)\n",
        "plt.grid(True, ls=\"--\", lw=0.8)\n",
        "\n",
        "plt.savefig('./2DCNN_training.png', dpi=300, transparent=False, bbox=\"tight\")\n",
        "\n",
        "plt.show()"
      ],
      "execution_count": null,
      "outputs": [
        {
          "output_type": "display_data",
          "data": {
            "text/plain": [
              "<Figure size 518.4x320.4 with 1 Axes>"
            ],
            "image/png": "[encoded data removed]"
          },
          "metadata": {
            "needs_background": "light"
          }
        }
      ]
    },
    {
      "cell_type": "code",
      "metadata": {
        "id": "FJr6SYrVIvlC",
        "colab": {
          "base_uri": "https://localhost:8080/"
        },
        "outputId": "f13eda64-b509-4efa-c6e9-da7b9aab746a"
      },
      "source": [
        "print(model.evaluate(x_test, y_test, batch_size=BATCH_SIZE))"
      ],
      "execution_count": null,
      "outputs": [
        {
          "output_type": "stream",
          "name": "stdout",
          "text": [
            "4/4 [==============================] - 1s 13ms/step - loss: 12.4013 - accuracy: 0.8750\n",
            "[12.401268005371094, 0.875]\n"
          ]
        }
      ]
    },
    {
      "cell_type": "code",
      "metadata": {
        "id": "0slVYyT6RQEf",
        "colab": {
          "base_uri": "https://localhost:8080/"
        },
        "outputId": "b1dd2e7f-6e24-4f6f-faf7-829ceab84b97"
      },
      "source": [
        "preds = model.predict(x_test)\n",
        "preds = np.squeeze(np.where(preds >= 0.5, 1, 0), axis=-1)"
      ],
      "execution_count": null,
      "outputs": [
        {
          "output_type": "stream",
          "name": "stdout",
          "text": [
            "WARNING:tensorflow:5 out of the last 5 calls to <function Model.make_predict_function.<locals>.predict_function at 0x7f21c458d050> triggered tf.function retracing. Tracing is expensive and the excessive number of tracings could be due to (1) creating @tf.function repeatedly in a loop, (2) passing tensors with different shapes, (3) passing Python objects instead of tensors. For (1), please define your @tf.function outside of the loop. For (2), @tf.function has experimental_relax_shapes=True option that relaxes argument shapes that can avoid unnecessary retracing. For (3), please refer to https://www.tensorflow.org/guide/function#controlling_retracing and https://www.tensorflow.org/api_docs/python/tf/function for  more details.\n"
          ]
        }
      ]
    },
    {
      "cell_type": "code",
      "metadata": {
        "id": "6x1YfBlRRrOr",
        "colab": {
          "base_uri": "https://localhost:8080/"
        },
        "outputId": "160218da-05da-4068-b050-dfdb443f1587"
      },
      "source": [
        "target_names = ['turn_on', 'turn_off']\n",
        "print(classification_report(y_test, preds, target_names=target_names))"
      ],
      "execution_count": null,
      "outputs": [
        {
          "output_type": "stream",
          "name": "stdout",
          "text": [
            "              precision    recall  f1-score   support\n",
            "\n",
            "     turn_on       0.80      1.00      0.89         4\n",
            "    turn_off       1.00      0.75      0.86         4\n",
            "\n",
            "    accuracy                           0.88         8\n",
            "   macro avg       0.90      0.88      0.87         8\n",
            "weighted avg       0.90      0.88      0.87         8\n",
            "\n"
          ]
        }
      ]
    },
    {
      "cell_type": "code",
      "metadata": {
        "id": "_0Po-y3VUjiE"
      },
      "source": [
        "save_model(model, './model_2dconv_e{}-bs{}-a{:.2f}-va{:.2f}.h5'.format(EPOCHS, BATCH_SIZE, 100*r.history['accuracy'][-1], 100*r.history['val_accuracy'][-1]))"
      ],
      "execution_count": null,
      "outputs": []
    },
    {
      "cell_type": "code",
      "metadata": {
        "id": "ymBuiNNmgkY-"
      },
      "source": [
        "model.save_weights('./model_2dconv_weights_e{}-bs{}-a{:.2f}-va{:.2f}.h5'.format(EPOCHS, BATCH_SIZE, 100*r.history['accuracy'][-1], 100*r.history['val_accuracy'][-1]))"
      ],
      "execution_count": null,
      "outputs": []
    },
    {
      "cell_type": "code",
      "metadata": {
        "id": "1kAMmBVZtBJN"
      },
      "source": [
        "def plot_confusion_matrix_custom(cm, classes, normalize=False, title='Confusion matrix', cmap='PuBu'):\n",
        "    import itertools\n",
        "    plt.figure(figsize=[5, 4])\n",
        "    plt.grid(False)\n",
        "    if normalize:\n",
        "        cm = cm.astype('float') / cm.sum(axis=1)[:, np.newaxis]\n",
        "\n",
        "    plt.imshow(cm, interpolation='nearest', cmap=cmap)\n",
        "    plt.title(title)\n",
        "\n",
        "    plt.colorbar()\n",
        "    tick_marks = np.arange(len(classes))\n",
        "    plt.xticks(tick_marks, classes, rotation=45)\n",
        "    plt.yticks(tick_marks, classes)\n",
        "\n",
        "    fmt = '.2f' if normalize else 'd'\n",
        "    thresh = cm.max() / 2.\n",
        "    for i, j in itertools.product(range(cm.shape[0]), range(cm.shape[1])):\n",
        "        plt.text(j, i, format(cm[i, j], fmt),\n",
        "                 horizontalalignment=\"center\",\n",
        "                 color=\"white\" if cm[i, j] > thresh else \"black\")\n",
        "\n",
        "    plt.ylabel('True label')\n",
        "    plt.xlabel('Predicted label')\n",
        "    plt.tight_layout()\n",
        "    plt.savefig(\"./2DCNN_cm.png\", dpi=300, transparent=True, bbox=\"tight\", pad=0)\n",
        "    plt.show()"
      ],
      "execution_count": null,
      "outputs": []
    },
    {
      "cell_type": "code",
      "metadata": {
        "id": "dvzDQF_sZJJi",
        "colab": {
          "base_uri": "https://localhost:8080/",
          "height": 287
        },
        "outputId": "7abbcb4b-bf9c-4a47-fadc-8c31c40b339e"
      },
      "source": [
        "from sklearn.metrics import confusion_matrix\n",
        "from mlxtend.plotting import plot_confusion_matrix\n",
        "\n",
        "confusion_matrix_output = confusion_matrix(y_test, preds)\n",
        "plot_confusion_matrix_custom(confusion_matrix_output, classes=['turn_on', 'turn_off'], title='Confusion matrix')"
      ],
      "execution_count": null,
      "outputs": [
        {
          "output_type": "display_data",
          "data": {
            "text/plain": [
              "<Figure size 360x288 with 2 Axes>"
            ],
            "image/png": "[encoded data removed]"
          },
          "metadata": {
            "needs_background": "light"
          }
        }
      ]
    },
    {
      "cell_type": "code",
      "metadata": {
        "id": "bPmhyMU4ZWJs"
      },
      "source": [
        "from sklearn.metrics import roc_curve, auc\n",
        "from numpy import interp\n",
        "from itertools import cycle\n",
        "def plot_custom_roc(y_test, preds):\n",
        "  plt.figure(figsize=[10,8])\n",
        "  fpr, tpr, _ = roc_curve(y_test, preds)\n",
        "  roc_auc = auc(fpr, tpr)\n",
        "  lw = 2\n",
        "  plt.plot(fpr, tpr, color='darkorange',\n",
        "  lw=lw, label='ROC curve (area = %0.2f)' % roc_auc)\n",
        "  plt.plot([0, 1], [0, 1], color='navy', lw=lw, linestyle='--')\n",
        "  plt.xlim([0.0, 1.0])\n",
        "  plt.ylim([0.0, 1.05])\n",
        "  plt.xlabel('False Positive Rate')\n",
        "  plt.ylabel('True Positive Rate')\n",
        "  plt.title('Receiver operating characteristic example')\n",
        "  plt.legend(loc=\"lower right\")\n",
        "  plt.tight_layout()\n",
        "  plt.savefig(\"./2DCNN_roc.png\", dpi=300, transparent=True, bbox=\"tight\", pad=0)\n",
        "  plt.show()"
      ],
      "execution_count": null,
      "outputs": []
    },
    {
      "cell_type": "code",
      "metadata": {
        "id": "Y5Aniot8Z2r8",
        "colab": {
          "base_uri": "https://localhost:8080/",
          "height": 575
        },
        "outputId": "de781a76-e88a-4d5e-e195-a11b3c88ff03"
      },
      "source": [
        "plot_custom_roc(y_test, preds)"
      ],
      "execution_count": null,
      "outputs": [
        {
          "output_type": "display_data",
          "data": {
            "text/plain": [
              "<Figure size 720x576 with 1 Axes>"
            ],
            "image/png": "[encoded data removed]"
          },
          "metadata": {
            "needs_background": "light"
          }
        }
      ]
    },
    {
      "cell_type": "code",
      "metadata": {
        "id": "QFzdVtA5dRBV"
      },
      "source": [
        ""
      ],
      "execution_count": null,
      "outputs": []
    }
  ]
}