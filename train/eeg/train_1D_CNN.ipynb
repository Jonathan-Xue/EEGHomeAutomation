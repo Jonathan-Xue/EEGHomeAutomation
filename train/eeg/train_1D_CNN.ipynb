{
  "nbformat": 4,
  "nbformat_minor": 0,
  "metadata": {
    "colab": {
      "name": "CS598_1D_CNN",
      "provenance": [],
      "collapsed_sections": [],
      "machine_shape": "hm"
    },
    "kernelspec": {
      "name": "python3",
      "display_name": "Python 3"
    },
    "accelerator": "GPU"
  },
  "cells": [
    {
      "cell_type": "code",
      "metadata": {
        "id": "0uxYtgLT5guY",
        "colab": {
          "base_uri": "https://localhost:8080/"
        },
        "outputId": "e3842b8c-0255-46e9-d5ea-3c0a0d07fd20"
      },
      "source": [
        "%tensorflow_version 2.x\n",
        "import tensorflow as tf\n",
        "device_name = tf.test.gpu_device_name()\n",
        "if device_name != '/device:GPU:0':\n",
        "  raise SystemError('GPU device not found')\n",
        "print('Found GPU at: {}'.format(device_name))"
      ],
      "execution_count": null,
      "outputs": [
        {
          "output_type": "stream",
          "name": "stdout",
          "text": [
            "Found GPU at: /device:GPU:0\n"
          ]
        }
      ]
    },
    {
      "cell_type": "code",
      "metadata": {
        "id": "xKK8vo9l6AV0"
      },
      "source": [
        "from sklearn.model_selection import train_test_split\n",
        "from sklearn.preprocessing import OneHotEncoder\n",
        "from sklearn.metrics import classification_report\n",
        "from tensorflow.keras.layers import Input, BatchNormalization, Conv2D, MaxPooling1D, Flatten, Dense, ReLU, LeakyReLU, Dropout, Conv1D, GlobalMaxPooling1D, GlobalAveragePooling1D, PReLU, ELU\n",
        "from tensorflow.keras.regularizers import l2, l1_l2, l1\n",
        "from tensorflow.keras.models import Model, load_model, save_model\n",
        "from tensorflow.keras.optimizers import Adam, RMSprop\n",
        "from tensorflow.keras.callbacks import LearningRateScheduler, EarlyStopping\n",
        "from tensorflow.keras.utils import to_categorical\n",
        "from tensorflow.keras.wrappers.scikit_learn import KerasClassifier\n",
        "from sklearn.model_selection import StratifiedKFold\n",
        "from sklearn.model_selection import cross_val_score\n",
        "from sklearn.preprocessing import LabelEncoder\n",
        "from sklearn.preprocessing import StandardScaler\n",
        "from sklearn.pipeline import Pipeline\n",
        "import matplotlib.pyplot as plt\n",
        "import numpy as np\n",
        "import csv\n",
        "import os\n",
        "import glob\n",
        "import pandas as pd"
      ],
      "execution_count": null,
      "outputs": []
    },
    {
      "cell_type": "code",
      "source": [
        "plt.style.use('/content/fig.mplstyle')"
      ],
      "metadata": {
        "id": "1JLMjUU5F6oD"
      },
      "execution_count": null,
      "outputs": []
    },
    {
      "cell_type": "code",
      "source": [
        "!git clone https://gitlab.com/siddinc/cs598-eeg-data.git"
      ],
      "metadata": {
        "colab": {
          "base_uri": "https://localhost:8080/"
        },
        "id": "-TE3-bmAPhWA",
        "outputId": "cec15ba1-3d70-4aff-86e7-47b2afb02aee"
      },
      "execution_count": null,
      "outputs": [
        {
          "output_type": "stream",
          "name": "stdout",
          "text": [
            "Cloning into 'cs598-eeg-data'...\n",
            "remote: Enumerating objects: 324, done.\u001b[K\n",
            "remote: Counting objects: 100% (55/55), done.\u001b[K\n",
            "remote: Compressing objects: 100% (55/55), done.\u001b[K\n",
            "remote: Total 324 (delta 0), reused 0 (delta 0), pack-reused 269\u001b[K\n",
            "Receiving objects: 100% (324/324), 44.11 MiB | 9.04 MiB/s, done.\n",
            "Resolving deltas: 100% (7/7), done.\n"
          ]
        }
      ]
    },
    {
      "cell_type": "code",
      "metadata": {
        "id": "cIQYzZ1yJJOH"
      },
      "source": [
        "def min_max_scaling(vector):\n",
        "  normalized_vector = (vector - vector.min()) / (vector.max() - vector.min())\n",
        "  return normalized_vector\n",
        "\n",
        "def build_dataset(dst_path):\n",
        "  dataset = {}\n",
        "  data = glob.glob(dst_path)\n",
        "\n",
        "  batch = np.zeros((50, 1903, 4), dtype=np.float64)\n",
        "  gt_labels = []\n",
        "  \n",
        "  for i, file_path in enumerate(data):\n",
        "    gt_labels.append(1 if file_path.split(\"/\")[4] == \"turn_on\" else 0)\n",
        "    df = pd.read_csv(file_path)\n",
        "    \n",
        "    ts_tp9 = df[\"TP9\"].to_numpy()\n",
        "    ts_tp10 = df[\"TP10\"].to_numpy()\n",
        "    ts_af7 = df[\"AF7\"].to_numpy()\n",
        "    ts_af8 = df[\"AF8\"].to_numpy()\n",
        "  \n",
        "    batch[i,:,0] = min_max_scaling(ts_tp9[996:2899])\n",
        "    batch[i,:,1] = min_max_scaling(ts_tp10[996:2899])\n",
        "    batch[i,:,2] = min_max_scaling(ts_af7[996:2899])\n",
        "    batch[i,:,3] = min_max_scaling(ts_af8[996:2899])\n",
        "\n",
        "  dataset['x'] = batch\n",
        "  dataset['y'] = np.array(gt_labels)\n",
        "  return dataset"
      ],
      "execution_count": null,
      "outputs": []
    },
    {
      "cell_type": "code",
      "metadata": {
        "id": "_aFIgsWJuFK_"
      },
      "source": [
        "dataset = build_dataset(\"/content/cs598-eeg-data/data_v3/*/*\")"
      ],
      "execution_count": null,
      "outputs": []
    },
    {
      "cell_type": "code",
      "metadata": {
        "id": "W75NoJKaYVPq",
        "colab": {
          "base_uri": "https://localhost:8080/"
        },
        "outputId": "1226e41b-63fa-4a36-eb74-602a698d1a4a"
      },
      "source": [
        "print(dataset['x'].shape, dataset['x'].dtype)\n",
        "print(dataset['y'].shape, dataset['y'].dtype)"
      ],
      "execution_count": null,
      "outputs": [
        {
          "output_type": "stream",
          "name": "stdout",
          "text": [
            "(50, 1903, 4) float64\n",
            "(50,) int64\n"
          ]
        }
      ]
    },
    {
      "cell_type": "code",
      "metadata": {
        "id": "9_Dq2jpoY-qa"
      },
      "source": [
        "def preprocess_dataset(dataset, test_size=0.0, val_size=0.2):\n",
        "  x = dataset[\"x\"]\n",
        "  y = dataset[\"y\"]\n",
        "  \n",
        "  x_train, x_test, y_train, y_test = train_test_split(x, y, test_size=test_size, random_state=42, shuffle=True, stratify=y)\n",
        "  x_train, x_val, y_train, y_val = train_test_split(x_train, y_train, test_size=val_size, random_state=42, shuffle=True, stratify=y_train)\n",
        "\n",
        "  print(x_train.shape, y_train.shape)\n",
        "  print(x_val.shape, y_val.shape)\n",
        "  print(x_test.shape, y_test.shape)\n",
        "\n",
        "  return x_train, x_val, x_test, y_train, y_val, y_test"
      ],
      "execution_count": null,
      "outputs": []
    },
    {
      "cell_type": "code",
      "metadata": {
        "id": "7uH1DqqtaUdL",
        "colab": {
          "base_uri": "https://localhost:8080/"
        },
        "outputId": "f87d5d94-81a2-40ee-b8be-6bea4dd30ca5"
      },
      "source": [
        "x_train, x_val, x_test, y_train, y_val, y_test = preprocess_dataset(dataset, 0.15, 0.3)"
      ],
      "execution_count": null,
      "outputs": [
        {
          "output_type": "stream",
          "name": "stdout",
          "text": [
            "(29, 1903, 4) (29,)\n",
            "(13, 1903, 4) (13,)\n",
            "(8, 1903, 4) (8,)\n"
          ]
        }
      ]
    },
    {
      "cell_type": "code",
      "source": [
        "def poly_decay(epoch):\n",
        "    maxEpochs = EPOCHS\n",
        "    baseLR = INIT_LR\n",
        "    power = 1.0\n",
        "\n",
        "    alpha = baseLR * (1 - (epoch / float(maxEpochs))) ** power\n",
        "    return alpha"
      ],
      "metadata": {
        "id": "N2sXM78RiZ4l"
      },
      "execution_count": null,
      "outputs": []
    },
    {
      "cell_type": "code",
      "metadata": {
        "id": "duyCkldcucxC"
      },
      "source": [
        "def build_model(timesteps, features):\n",
        "  i = Input(shape=(timesteps,features))\n",
        "\n",
        "  x = Conv1D(4, 3, strides=1, padding='same', kernel_regularizer=l1_l2())(i)\n",
        "  x = ReLU()(x)\n",
        "  x = BatchNormalization()(x)\n",
        "\n",
        "  x = Conv1D(4, 3, strides=1, padding='same', kernel_regularizer=l1_l2())(x)\n",
        "  x = ReLU()(x)\n",
        "  x = BatchNormalization()(x)\n",
        "  x = MaxPooling1D(pool_size=2)(x)\n",
        "\n",
        "  x = Conv1D(8, 3, strides=1, padding='same', kernel_regularizer=l1_l2())(x)\n",
        "  x = ReLU()(x)\n",
        "  x = BatchNormalization()(x)\n",
        "\n",
        "  x = Conv1D(8, 3, strides=1, padding='same', kernel_regularizer=l1_l2())(x)\n",
        "  x = ReLU()(x)\n",
        "  x = BatchNormalization()(x)\n",
        "  x = MaxPooling1D(pool_size=2)(x)\n",
        "\n",
        "  x = Conv1D(16, 3, strides=1, padding='same', kernel_regularizer=l1_l2())(x)\n",
        "  x = ReLU()(x)\n",
        "  x = BatchNormalization()(x)\n",
        "\n",
        "  x = Conv1D(16, 3, strides=1, padding='same', kernel_regularizer=l1_l2())(x)\n",
        "  x = ReLU()(x)\n",
        "  x = BatchNormalization()(x)\n",
        "\n",
        "  x = GlobalAveragePooling1D()(x)\n",
        "\n",
        "  x = Flatten()(x)\n",
        "  x = Dropout(0.5)(x)\n",
        "\n",
        "  x = Dense(1, activation='sigmoid')(x)\n",
        "  model = Model(i, x)\n",
        "  return model"
      ],
      "execution_count": null,
      "outputs": []
    },
    {
      "cell_type": "code",
      "source": [
        "model = build_model(1903, 4)\n",
        "model.summary()"
      ],
      "metadata": {
        "colab": {
          "base_uri": "https://localhost:8080/"
        },
        "id": "rLM8YywGlVxn",
        "outputId": "74f15c23-f1e0-4c48-b6a9-9174d367b634"
      },
      "execution_count": null,
      "outputs": [
        {
          "output_type": "stream",
          "name": "stdout",
          "text": [
            "Model: \"model_2\"\n",
            "_________________________________________________________________\n",
            " Layer (type)                Output Shape              Param #   \n",
            "=================================================================\n",
            " input_5 (InputLayer)        [(None, 1903, 4)]         0         \n",
            "                                                                 \n",
            " conv1d_24 (Conv1D)          (None, 1903, 4)           52        \n",
            "                                                                 \n",
            " re_lu_25 (ReLU)             (None, 1903, 4)           0         \n",
            "                                                                 \n",
            " batch_normalization_25 (Bat  (None, 1903, 4)          16        \n",
            " chNormalization)                                                \n",
            "                                                                 \n",
            " conv1d_25 (Conv1D)          (None, 1903, 4)           52        \n",
            "                                                                 \n",
            " re_lu_26 (ReLU)             (None, 1903, 4)           0         \n",
            "                                                                 \n",
            " batch_normalization_26 (Bat  (None, 1903, 4)          16        \n",
            " chNormalization)                                                \n",
            "                                                                 \n",
            " max_pooling1d_10 (MaxPoolin  (None, 951, 4)           0         \n",
            " g1D)                                                            \n",
            "                                                                 \n",
            " conv1d_26 (Conv1D)          (None, 951, 8)            104       \n",
            "                                                                 \n",
            " re_lu_27 (ReLU)             (None, 951, 8)            0         \n",
            "                                                                 \n",
            " batch_normalization_27 (Bat  (None, 951, 8)           32        \n",
            " chNormalization)                                                \n",
            "                                                                 \n",
            " conv1d_27 (Conv1D)          (None, 951, 8)            200       \n",
            "                                                                 \n",
            " re_lu_28 (ReLU)             (None, 951, 8)            0         \n",
            "                                                                 \n",
            " batch_normalization_28 (Bat  (None, 951, 8)           32        \n",
            " chNormalization)                                                \n",
            "                                                                 \n",
            " max_pooling1d_11 (MaxPoolin  (None, 475, 8)           0         \n",
            " g1D)                                                            \n",
            "                                                                 \n",
            " conv1d_28 (Conv1D)          (None, 475, 16)           400       \n",
            "                                                                 \n",
            " re_lu_29 (ReLU)             (None, 475, 16)           0         \n",
            "                                                                 \n",
            " batch_normalization_29 (Bat  (None, 475, 16)          64        \n",
            " chNormalization)                                                \n",
            "                                                                 \n",
            " conv1d_29 (Conv1D)          (None, 475, 16)           784       \n",
            "                                                                 \n",
            " re_lu_30 (ReLU)             (None, 475, 16)           0         \n",
            "                                                                 \n",
            " batch_normalization_30 (Bat  (None, 475, 16)          64        \n",
            " chNormalization)                                                \n",
            "                                                                 \n",
            " global_average_pooling1d_2   (None, 16)               0         \n",
            " (GlobalAveragePooling1D)                                        \n",
            "                                                                 \n",
            " flatten_3 (Flatten)         (None, 16)                0         \n",
            "                                                                 \n",
            " dropout_4 (Dropout)         (None, 16)                0         \n",
            "                                                                 \n",
            " dense_4 (Dense)             (None, 1)                 17        \n",
            "                                                                 \n",
            "=================================================================\n",
            "Total params: 1,833\n",
            "Trainable params: 1,721\n",
            "Non-trainable params: 112\n",
            "_________________________________________________________________\n"
          ]
        }
      ]
    },
    {
      "cell_type": "code",
      "metadata": {
        "id": "aW_QmGvNvjq0"
      },
      "source": [
        "INIT_LR = 0.0001\n",
        "EPOCHS = 100\n",
        "BATCH_SIZE = 2\n",
        "STEPS_PER_EPOCH = x_train.shape[0] // BATCH_SIZE\n",
        "VALIDATION_STEPS = x_val.shape[0] // BATCH_SIZE\n",
        "callbacks = [LearningRateScheduler(poly_decay)]\n",
        "\n",
        "opt = Adam(learning_rate=INIT_LR, amsgrad=True)\n",
        "model.compile(loss='binary_crossentropy', metrics=['accuracy'], optimizer=opt)"
      ],
      "execution_count": null,
      "outputs": []
    },
    {
      "cell_type": "code",
      "metadata": {
        "id": "6eSdf_VZD5mW",
        "colab": {
          "base_uri": "https://localhost:8080/"
        },
        "outputId": "31d0db3c-85c9-4bdf-b51e-b239cb157195"
      },
      "source": [
        "r = model.fit(\n",
        "  x_train, y_train,\n",
        "  validation_data=(x_val, y_val),\n",
        "  epochs=EPOCHS, batch_size=BATCH_SIZE,\n",
        "  steps_per_epoch=STEPS_PER_EPOCH,\n",
        "  validation_steps=VALIDATION_STEPS,\n",
        "  callbacks=callbacks\n",
        ")"
      ],
      "execution_count": null,
      "outputs": [
        {
          "output_type": "stream",
          "name": "stdout",
          "text": [
            "Epoch 1/100\n",
            "14/14 [==============================] - 4s 56ms/step - loss: 3.3941 - accuracy: 0.4643 - val_loss: 3.3886 - val_accuracy: 0.7500 - lr: 1.0000e-04\n",
            "Epoch 2/100\n",
            "14/14 [==============================] - 0s 24ms/step - loss: 3.4179 - accuracy: 0.4444 - val_loss: 3.3768 - val_accuracy: 0.5000 - lr: 9.9000e-05\n",
            "Epoch 3/100\n",
            "14/14 [==============================] - 0s 25ms/step - loss: 3.4468 - accuracy: 0.2593 - val_loss: 3.3619 - val_accuracy: 0.5000 - lr: 9.8000e-05\n",
            "Epoch 4/100\n",
            "14/14 [==============================] - 0s 22ms/step - loss: 3.3592 - accuracy: 0.5185 - val_loss: 3.3496 - val_accuracy: 0.5000 - lr: 9.7000e-05\n",
            "Epoch 5/100\n",
            "14/14 [==============================] - 0s 21ms/step - loss: 3.3558 - accuracy: 0.4074 - val_loss: 3.3378 - val_accuracy: 0.5000 - lr: 9.6000e-05\n",
            "Epoch 6/100\n",
            "14/14 [==============================] - 0s 26ms/step - loss: 3.3138 - accuracy: 0.5556 - val_loss: 3.3260 - val_accuracy: 0.5000 - lr: 9.5000e-05\n",
            "Epoch 7/100\n",
            "14/14 [==============================] - 0s 24ms/step - loss: 3.3628 - accuracy: 0.4815 - val_loss: 3.3144 - val_accuracy: 0.5000 - lr: 9.4000e-05\n",
            "Epoch 8/100\n",
            "14/14 [==============================] - 0s 20ms/step - loss: 3.3154 - accuracy: 0.5926 - val_loss: 3.3028 - val_accuracy: 0.5000 - lr: 9.3000e-05\n",
            "Epoch 9/100\n",
            "14/14 [==============================] - 0s 20ms/step - loss: 3.2915 - accuracy: 0.5556 - val_loss: 3.2915 - val_accuracy: 0.5000 - lr: 9.2000e-05\n",
            "Epoch 10/100\n",
            "14/14 [==============================] - 0s 23ms/step - loss: 3.2487 - accuracy: 0.5556 - val_loss: 3.2797 - val_accuracy: 0.5000 - lr: 9.1000e-05\n",
            "Epoch 11/100\n",
            "14/14 [==============================] - 0s 19ms/step - loss: 3.3064 - accuracy: 0.5185 - val_loss: 3.2686 - val_accuracy: 0.5000 - lr: 9.0000e-05\n",
            "Epoch 12/100\n",
            "14/14 [==============================] - 0s 23ms/step - loss: 3.2876 - accuracy: 0.5185 - val_loss: 3.2577 - val_accuracy: 0.5000 - lr: 8.9000e-05\n",
            "Epoch 13/100\n",
            "14/14 [==============================] - 0s 25ms/step - loss: 3.2578 - accuracy: 0.5926 - val_loss: 3.2468 - val_accuracy: 0.5000 - lr: 8.8000e-05\n",
            "Epoch 14/100\n",
            "14/14 [==============================] - 0s 24ms/step - loss: 3.2345 - accuracy: 0.4815 - val_loss: 3.2358 - val_accuracy: 0.5000 - lr: 8.7000e-05\n",
            "Epoch 15/100\n",
            "14/14 [==============================] - 0s 26ms/step - loss: 3.2030 - accuracy: 0.6667 - val_loss: 3.2248 - val_accuracy: 0.5000 - lr: 8.6000e-05\n",
            "Epoch 16/100\n",
            "14/14 [==============================] - 0s 21ms/step - loss: 3.2399 - accuracy: 0.5714 - val_loss: 3.2137 - val_accuracy: 0.5000 - lr: 8.5000e-05\n",
            "Epoch 17/100\n",
            "14/14 [==============================] - 0s 19ms/step - loss: 3.2492 - accuracy: 0.4815 - val_loss: 3.2025 - val_accuracy: 0.5000 - lr: 8.4000e-05\n",
            "Epoch 18/100\n",
            "14/14 [==============================] - 0s 23ms/step - loss: 3.1923 - accuracy: 0.4815 - val_loss: 3.1914 - val_accuracy: 0.5833 - lr: 8.3000e-05\n",
            "Epoch 19/100\n",
            "14/14 [==============================] - 0s 22ms/step - loss: 3.2528 - accuracy: 0.3333 - val_loss: 3.1800 - val_accuracy: 0.5833 - lr: 8.2000e-05\n",
            "Epoch 20/100\n",
            "14/14 [==============================] - 0s 23ms/step - loss: 3.1803 - accuracy: 0.4815 - val_loss: 3.1686 - val_accuracy: 0.5833 - lr: 8.1000e-05\n",
            "Epoch 21/100\n",
            "14/14 [==============================] - 0s 24ms/step - loss: 3.1615 - accuracy: 0.4815 - val_loss: 3.1572 - val_accuracy: 0.5833 - lr: 8.0000e-05\n",
            "Epoch 22/100\n",
            "14/14 [==============================] - 0s 24ms/step - loss: 3.1031 - accuracy: 0.6296 - val_loss: 3.1454 - val_accuracy: 0.5833 - lr: 7.9000e-05\n",
            "Epoch 23/100\n",
            "14/14 [==============================] - 0s 25ms/step - loss: 3.1719 - accuracy: 0.5926 - val_loss: 3.1337 - val_accuracy: 0.5833 - lr: 7.8000e-05\n",
            "Epoch 24/100\n",
            "14/14 [==============================] - 0s 24ms/step - loss: 3.1876 - accuracy: 0.4444 - val_loss: 3.1222 - val_accuracy: 0.5000 - lr: 7.7000e-05\n",
            "Epoch 25/100\n",
            "14/14 [==============================] - 0s 21ms/step - loss: 3.0960 - accuracy: 0.5926 - val_loss: 3.1107 - val_accuracy: 0.4167 - lr: 7.6000e-05\n",
            "Epoch 26/100\n",
            "14/14 [==============================] - 0s 20ms/step - loss: 3.0881 - accuracy: 0.4815 - val_loss: 3.0997 - val_accuracy: 0.4167 - lr: 7.5000e-05\n",
            "Epoch 27/100\n",
            "14/14 [==============================] - 0s 23ms/step - loss: 3.1582 - accuracy: 0.4444 - val_loss: 3.0884 - val_accuracy: 0.4167 - lr: 7.4000e-05\n",
            "Epoch 28/100\n",
            "14/14 [==============================] - 0s 24ms/step - loss: 3.1061 - accuracy: 0.5926 - val_loss: 3.0768 - val_accuracy: 0.4167 - lr: 7.3000e-05\n",
            "Epoch 29/100\n",
            "14/14 [==============================] - 0s 22ms/step - loss: 3.1002 - accuracy: 0.5185 - val_loss: 3.0664 - val_accuracy: 0.4167 - lr: 7.2000e-05\n",
            "Epoch 30/100\n",
            "14/14 [==============================] - 0s 23ms/step - loss: 3.1096 - accuracy: 0.5185 - val_loss: 3.0546 - val_accuracy: 0.4167 - lr: 7.1000e-05\n",
            "Epoch 31/100\n",
            "14/14 [==============================] - 0s 23ms/step - loss: 3.0762 - accuracy: 0.5714 - val_loss: 3.0430 - val_accuracy: 0.5833 - lr: 7.0000e-05\n",
            "Epoch 32/100\n",
            "14/14 [==============================] - 0s 25ms/step - loss: 3.0483 - accuracy: 0.6667 - val_loss: 3.0318 - val_accuracy: 0.7500 - lr: 6.9000e-05\n",
            "Epoch 33/100\n",
            "14/14 [==============================] - 0s 23ms/step - loss: 3.0484 - accuracy: 0.5926 - val_loss: 3.0205 - val_accuracy: 0.8333 - lr: 6.8000e-05\n",
            "Epoch 34/100\n",
            "14/14 [==============================] - 0s 23ms/step - loss: 3.0074 - accuracy: 0.5926 - val_loss: 3.0087 - val_accuracy: 0.8333 - lr: 6.7000e-05\n",
            "Epoch 35/100\n",
            "14/14 [==============================] - 0s 20ms/step - loss: 3.0051 - accuracy: 0.6667 - val_loss: 2.9977 - val_accuracy: 0.8333 - lr: 6.6000e-05\n",
            "Epoch 36/100\n",
            "14/14 [==============================] - 0s 24ms/step - loss: 3.0760 - accuracy: 0.4444 - val_loss: 2.9865 - val_accuracy: 0.8333 - lr: 6.5000e-05\n",
            "Epoch 37/100\n",
            "14/14 [==============================] - 0s 22ms/step - loss: 3.0353 - accuracy: 0.4815 - val_loss: 2.9753 - val_accuracy: 0.8333 - lr: 6.4000e-05\n",
            "Epoch 38/100\n",
            "14/14 [==============================] - 0s 23ms/step - loss: 2.9533 - accuracy: 0.7407 - val_loss: 2.9637 - val_accuracy: 0.8333 - lr: 6.3000e-05\n",
            "Epoch 39/100\n",
            "14/14 [==============================] - 0s 24ms/step - loss: 3.0233 - accuracy: 0.4444 - val_loss: 2.9537 - val_accuracy: 0.8333 - lr: 6.2000e-05\n",
            "Epoch 40/100\n",
            "14/14 [==============================] - 0s 24ms/step - loss: 2.9510 - accuracy: 0.7037 - val_loss: 2.9435 - val_accuracy: 0.8333 - lr: 6.1000e-05\n",
            "Epoch 41/100\n",
            "14/14 [==============================] - 0s 23ms/step - loss: 2.9847 - accuracy: 0.6667 - val_loss: 2.9339 - val_accuracy: 0.8333 - lr: 6.0000e-05\n",
            "Epoch 42/100\n",
            "14/14 [==============================] - 0s 21ms/step - loss: 2.9169 - accuracy: 0.8148 - val_loss: 2.9237 - val_accuracy: 0.8333 - lr: 5.9000e-05\n",
            "Epoch 43/100\n",
            "14/14 [==============================] - 0s 20ms/step - loss: 3.0041 - accuracy: 0.5185 - val_loss: 2.9144 - val_accuracy: 0.8333 - lr: 5.8000e-05\n",
            "Epoch 44/100\n",
            "14/14 [==============================] - 0s 24ms/step - loss: 2.9578 - accuracy: 0.6296 - val_loss: 2.9056 - val_accuracy: 0.8333 - lr: 5.7000e-05\n",
            "Epoch 45/100\n",
            "14/14 [==============================] - 0s 21ms/step - loss: 2.9541 - accuracy: 0.6667 - val_loss: 2.8979 - val_accuracy: 0.8333 - lr: 5.6000e-05\n",
            "Epoch 46/100\n",
            "14/14 [==============================] - 0s 21ms/step - loss: 2.9241 - accuracy: 0.6071 - val_loss: 2.8886 - val_accuracy: 0.8333 - lr: 5.5000e-05\n",
            "Epoch 47/100\n",
            "14/14 [==============================] - 0s 26ms/step - loss: 2.9141 - accuracy: 0.6667 - val_loss: 2.8800 - val_accuracy: 0.8333 - lr: 5.4000e-05\n",
            "Epoch 48/100\n",
            "14/14 [==============================] - 0s 22ms/step - loss: 2.9498 - accuracy: 0.5926 - val_loss: 2.8723 - val_accuracy: 0.8333 - lr: 5.3000e-05\n",
            "Epoch 49/100\n",
            "14/14 [==============================] - 0s 24ms/step - loss: 2.9152 - accuracy: 0.7778 - val_loss: 2.8637 - val_accuracy: 0.8333 - lr: 5.2000e-05\n",
            "Epoch 50/100\n",
            "14/14 [==============================] - 0s 24ms/step - loss: 2.8639 - accuracy: 0.8148 - val_loss: 2.8552 - val_accuracy: 0.8333 - lr: 5.1000e-05\n",
            "Epoch 51/100\n",
            "14/14 [==============================] - 0s 23ms/step - loss: 2.9567 - accuracy: 0.4815 - val_loss: 2.8476 - val_accuracy: 0.8333 - lr: 5.0000e-05\n",
            "Epoch 52/100\n",
            "14/14 [==============================] - 0s 21ms/step - loss: 2.9185 - accuracy: 0.5556 - val_loss: 2.8405 - val_accuracy: 0.8333 - lr: 4.9000e-05\n",
            "Epoch 53/100\n",
            "14/14 [==============================] - 0s 24ms/step - loss: 2.8797 - accuracy: 0.6667 - val_loss: 2.8329 - val_accuracy: 0.8333 - lr: 4.8000e-05\n",
            "Epoch 54/100\n",
            "14/14 [==============================] - 0s 24ms/step - loss: 2.9123 - accuracy: 0.5556 - val_loss: 2.8255 - val_accuracy: 0.8333 - lr: 4.7000e-05\n",
            "Epoch 55/100\n",
            "14/14 [==============================] - 0s 22ms/step - loss: 2.8993 - accuracy: 0.6667 - val_loss: 2.8199 - val_accuracy: 0.8333 - lr: 4.6000e-05\n",
            "Epoch 56/100\n",
            "14/14 [==============================] - 0s 24ms/step - loss: 2.8273 - accuracy: 0.7407 - val_loss: 2.8133 - val_accuracy: 0.8333 - lr: 4.5000e-05\n",
            "Epoch 57/100\n",
            "14/14 [==============================] - 0s 23ms/step - loss: 2.8602 - accuracy: 0.7407 - val_loss: 2.8085 - val_accuracy: 0.8333 - lr: 4.4000e-05\n",
            "Epoch 58/100\n",
            "14/14 [==============================] - 0s 24ms/step - loss: 2.8894 - accuracy: 0.6667 - val_loss: 2.8026 - val_accuracy: 0.8333 - lr: 4.3000e-05\n",
            "Epoch 59/100\n",
            "14/14 [==============================] - 0s 27ms/step - loss: 2.8925 - accuracy: 0.7037 - val_loss: 2.7980 - val_accuracy: 0.8333 - lr: 4.2000e-05\n",
            "Epoch 60/100\n",
            "14/14 [==============================] - 0s 22ms/step - loss: 2.9174 - accuracy: 0.4815 - val_loss: 2.7937 - val_accuracy: 0.8333 - lr: 4.1000e-05\n",
            "Epoch 61/100\n",
            "14/14 [==============================] - 0s 24ms/step - loss: 2.8670 - accuracy: 0.6786 - val_loss: 2.7883 - val_accuracy: 0.8333 - lr: 4.0000e-05\n",
            "Epoch 62/100\n",
            "14/14 [==============================] - 0s 23ms/step - loss: 2.9079 - accuracy: 0.5185 - val_loss: 2.7827 - val_accuracy: 0.8333 - lr: 3.9000e-05\n",
            "Epoch 63/100\n",
            "14/14 [==============================] - 0s 22ms/step - loss: 2.8043 - accuracy: 0.7407 - val_loss: 2.7782 - val_accuracy: 0.8333 - lr: 3.8000e-05\n",
            "Epoch 64/100\n",
            "14/14 [==============================] - 0s 24ms/step - loss: 2.8806 - accuracy: 0.5926 - val_loss: 2.7736 - val_accuracy: 0.8333 - lr: 3.7000e-05\n",
            "Epoch 65/100\n",
            "14/14 [==============================] - 0s 25ms/step - loss: 2.8623 - accuracy: 0.7037 - val_loss: 2.7695 - val_accuracy: 0.8333 - lr: 3.6000e-05\n",
            "Epoch 66/100\n",
            "14/14 [==============================] - 0s 26ms/step - loss: 2.8433 - accuracy: 0.7037 - val_loss: 2.7640 - val_accuracy: 0.8333 - lr: 3.5000e-05\n",
            "Epoch 67/100\n",
            "14/14 [==============================] - 0s 26ms/step - loss: 2.8892 - accuracy: 0.5926 - val_loss: 2.7600 - val_accuracy: 0.8333 - lr: 3.4000e-05\n",
            "Epoch 68/100\n",
            "14/14 [==============================] - 0s 24ms/step - loss: 2.7999 - accuracy: 0.7407 - val_loss: 2.7544 - val_accuracy: 0.8333 - lr: 3.3000e-05\n",
            "Epoch 69/100\n",
            "14/14 [==============================] - 0s 26ms/step - loss: 2.8388 - accuracy: 0.6296 - val_loss: 2.7517 - val_accuracy: 0.8333 - lr: 3.2000e-05\n",
            "Epoch 70/100\n",
            "14/14 [==============================] - 0s 22ms/step - loss: 2.7983 - accuracy: 0.7037 - val_loss: 2.7466 - val_accuracy: 0.8333 - lr: 3.1000e-05\n",
            "Epoch 71/100\n",
            "14/14 [==============================] - 0s 26ms/step - loss: 2.8082 - accuracy: 0.6667 - val_loss: 2.7424 - val_accuracy: 0.8333 - lr: 3.0000e-05\n",
            "Epoch 72/100\n",
            "14/14 [==============================] - 0s 24ms/step - loss: 2.9013 - accuracy: 0.5556 - val_loss: 2.7385 - val_accuracy: 0.8333 - lr: 2.9000e-05\n",
            "Epoch 73/100\n",
            "14/14 [==============================] - 0s 23ms/step - loss: 2.7505 - accuracy: 0.7778 - val_loss: 2.7341 - val_accuracy: 0.8333 - lr: 2.8000e-05\n",
            "Epoch 74/100\n",
            "14/14 [==============================] - 0s 24ms/step - loss: 2.8627 - accuracy: 0.5556 - val_loss: 2.7303 - val_accuracy: 0.8333 - lr: 2.7000e-05\n",
            "Epoch 75/100\n",
            "14/14 [==============================] - 0s 26ms/step - loss: 2.8345 - accuracy: 0.5185 - val_loss: 2.7265 - val_accuracy: 0.8333 - lr: 2.6000e-05\n",
            "Epoch 76/100\n",
            "14/14 [==============================] - 0s 21ms/step - loss: 2.8505 - accuracy: 0.4643 - val_loss: 2.7237 - val_accuracy: 0.8333 - lr: 2.5000e-05\n",
            "Epoch 77/100\n",
            "14/14 [==============================] - 0s 22ms/step - loss: 2.8511 - accuracy: 0.5185 - val_loss: 2.7214 - val_accuracy: 0.8333 - lr: 2.4000e-05\n",
            "Epoch 78/100\n",
            "14/14 [==============================] - 0s 23ms/step - loss: 2.8641 - accuracy: 0.5556 - val_loss: 2.7191 - val_accuracy: 0.8333 - lr: 2.3000e-05\n",
            "Epoch 79/100\n",
            "14/14 [==============================] - 0s 20ms/step - loss: 2.8194 - accuracy: 0.6296 - val_loss: 2.7166 - val_accuracy: 0.8333 - lr: 2.2000e-05\n",
            "Epoch 80/100\n",
            "14/14 [==============================] - 0s 23ms/step - loss: 2.8033 - accuracy: 0.7037 - val_loss: 2.7122 - val_accuracy: 0.8333 - lr: 2.1000e-05\n",
            "Epoch 81/100\n",
            "14/14 [==============================] - 0s 25ms/step - loss: 2.7972 - accuracy: 0.7037 - val_loss: 2.7099 - val_accuracy: 0.8333 - lr: 2.0000e-05\n",
            "Epoch 82/100\n",
            "14/14 [==============================] - 0s 21ms/step - loss: 2.7921 - accuracy: 0.6667 - val_loss: 2.7083 - val_accuracy: 0.8333 - lr: 1.9000e-05\n",
            "Epoch 83/100\n",
            "14/14 [==============================] - 0s 22ms/step - loss: 2.7683 - accuracy: 0.7037 - val_loss: 2.7052 - val_accuracy: 0.8333 - lr: 1.8000e-05\n",
            "Epoch 84/100\n",
            "14/14 [==============================] - 0s 23ms/step - loss: 2.8164 - accuracy: 0.4815 - val_loss: 2.7036 - val_accuracy: 0.8333 - lr: 1.7000e-05\n",
            "Epoch 85/100\n",
            "14/14 [==============================] - 0s 22ms/step - loss: 2.8212 - accuracy: 0.6296 - val_loss: 2.7009 - val_accuracy: 0.8333 - lr: 1.6000e-05\n",
            "Epoch 86/100\n",
            "14/14 [==============================] - 0s 21ms/step - loss: 2.8017 - accuracy: 0.6667 - val_loss: 2.6983 - val_accuracy: 0.8333 - lr: 1.5000e-05\n",
            "Epoch 87/100\n",
            "14/14 [==============================] - 0s 21ms/step - loss: 2.7869 - accuracy: 0.6296 - val_loss: 2.6970 - val_accuracy: 0.8333 - lr: 1.4000e-05\n",
            "Epoch 88/100\n",
            "14/14 [==============================] - 0s 20ms/step - loss: 2.7885 - accuracy: 0.6296 - val_loss: 2.6961 - val_accuracy: 0.8333 - lr: 1.3000e-05\n",
            "Epoch 89/100\n",
            "14/14 [==============================] - 0s 23ms/step - loss: 2.7811 - accuracy: 0.7037 - val_loss: 2.6941 - val_accuracy: 0.8333 - lr: 1.2000e-05\n",
            "Epoch 90/100\n",
            "14/14 [==============================] - 0s 26ms/step - loss: 2.7876 - accuracy: 0.7037 - val_loss: 2.6925 - val_accuracy: 0.8333 - lr: 1.1000e-05\n",
            "Epoch 91/100\n",
            "14/14 [==============================] - 0s 22ms/step - loss: 2.7682 - accuracy: 0.6071 - val_loss: 2.6918 - val_accuracy: 0.8333 - lr: 1.0000e-05\n",
            "Epoch 92/100\n",
            "14/14 [==============================] - 0s 23ms/step - loss: 2.8066 - accuracy: 0.6667 - val_loss: 2.6909 - val_accuracy: 0.8333 - lr: 9.0000e-06\n",
            "Epoch 93/100\n",
            "14/14 [==============================] - 0s 23ms/step - loss: 2.7929 - accuracy: 0.5926 - val_loss: 2.6908 - val_accuracy: 0.8333 - lr: 8.0000e-06\n",
            "Epoch 94/100\n",
            "14/14 [==============================] - 0s 20ms/step - loss: 2.6983 - accuracy: 0.8519 - val_loss: 2.6892 - val_accuracy: 0.8333 - lr: 7.0000e-06\n",
            "Epoch 95/100\n",
            "14/14 [==============================] - 0s 22ms/step - loss: 2.7932 - accuracy: 0.5926 - val_loss: 2.6879 - val_accuracy: 0.8333 - lr: 6.0000e-06\n",
            "Epoch 96/100\n",
            "14/14 [==============================] - 0s 22ms/step - loss: 2.7966 - accuracy: 0.5926 - val_loss: 2.6874 - val_accuracy: 0.8333 - lr: 5.0000e-06\n",
            "Epoch 97/100\n",
            "14/14 [==============================] - 0s 22ms/step - loss: 2.7780 - accuracy: 0.6296 - val_loss: 2.6860 - val_accuracy: 0.8333 - lr: 4.0000e-06\n",
            "Epoch 98/100\n",
            "14/14 [==============================] - 0s 20ms/step - loss: 2.7725 - accuracy: 0.5926 - val_loss: 2.6865 - val_accuracy: 0.8333 - lr: 3.0000e-06\n",
            "Epoch 99/100\n",
            "14/14 [==============================] - 0s 26ms/step - loss: 2.7939 - accuracy: 0.5185 - val_loss: 2.6870 - val_accuracy: 0.8333 - lr: 2.0000e-06\n",
            "Epoch 100/100\n",
            "14/14 [==============================] - 0s 25ms/step - loss: 2.8003 - accuracy: 0.5185 - val_loss: 2.6864 - val_accuracy: 0.8333 - lr: 1.0000e-06\n"
          ]
        }
      ]
    },
    {
      "cell_type": "code",
      "metadata": {
        "id": "PxK383OziaQL",
        "colab": {
          "base_uri": "https://localhost:8080/",
          "height": 319
        },
        "outputId": "e0c37dd0-3997-462b-8250-60d10b876ad9"
      },
      "source": [
        "import matplotlib.pyplot as plt\n",
        "from matplotlib.ticker import ScalarFormatter,AutoMinorLocator\n",
        "import matplotlib as mpl\n",
        "import json\n",
        "plt.style.use('./fig.mplstyle')\n",
        "\n",
        "fig, ax = plt.subplots()\n",
        "\n",
        "# plt.xticks(np.arange(0,EPOCHS, 2))\n",
        "\n",
        "ax.plot(r.history[\"loss\"], linestyle = '-', lw=2, label=\"Train Loss\", alpha=1)\n",
        "ax.plot(r.history[\"val_loss\"], linestyle = '-', lw=2, label=\"Val Loss\", alpha=1)\n",
        "ax.plot(r.history[\"accuracy\"], linestyle = '-', lw=2, label=\"Train Accuracy\", alpha=1)\n",
        "ax.plot(r.history[\"val_accuracy\"], linestyle = '-', lw=2, label=\"Val Accuracy\", alpha=1)\n",
        "# ax.plot(np.arange(1,EPOCHS+1), r.history['lr'], linestyle = '-', lw=2, label=\"Learning rate\", alpha=1)\n",
        "\n",
        "ax.set_xlabel('Epochs')\n",
        "ax.set_ylabel('Loss/Accuracy')\n",
        "\n",
        "ax.yaxis.set_major_formatter(ScalarFormatter())\n",
        "ax.yaxis.set_minor_locator(  AutoMinorLocator(5))\n",
        "ax.yaxis.major.formatter._useMathText = True\n",
        "ax.legend(frameon=True, loc='best',ncol=1, handlelength=2, framealpha=1, edgecolor=\"0.8\", fancybox=False)\n",
        "plt.grid(True, ls=\"--\", lw=0.8)\n",
        "\n",
        "plt.savefig('./1DCNN_training.png', dpi=300, transparent=False, bbox=\"tight\")\n",
        "\n",
        "plt.show()\n"
      ],
      "execution_count": null,
      "outputs": [
        {
          "output_type": "display_data",
          "data": {
            "text/plain": [
              "<Figure size 518.4x320.4 with 1 Axes>"
            ],
            "image/png": "[encoded data removed]"
          },
          "metadata": {
            "needs_background": "light"
          }
        }
      ]
    },
    {
      "cell_type": "code",
      "metadata": {
        "id": "FJr6SYrVIvlC",
        "colab": {
          "base_uri": "https://localhost:8080/"
        },
        "outputId": "1bd3833e-c479-4c37-fe2a-2c10310dabce"
      },
      "source": [
        "print(model.evaluate(x_test, y_test, batch_size=BATCH_SIZE))"
      ],
      "execution_count": null,
      "outputs": [
        {
          "output_type": "stream",
          "name": "stdout",
          "text": [
            "4/4 [==============================] - 0s 7ms/step - loss: 2.7739 - accuracy: 0.8750\n",
            "[2.773920774459839, 0.875]\n"
          ]
        }
      ]
    },
    {
      "cell_type": "code",
      "metadata": {
        "id": "0slVYyT6RQEf"
      },
      "source": [
        "preds = model.predict(x_test)\n",
        "preds = np.squeeze(np.where(preds >= 0.5, 1, 0), axis=-1)"
      ],
      "execution_count": null,
      "outputs": []
    },
    {
      "cell_type": "code",
      "metadata": {
        "id": "6x1YfBlRRrOr",
        "colab": {
          "base_uri": "https://localhost:8080/"
        },
        "outputId": "a31c3266-a001-4261-fba4-51b16c296cc9"
      },
      "source": [
        "target_names = ['turn_on', 'turn_off']\n",
        "print(classification_report(y_test, preds, target_names=target_names))"
      ],
      "execution_count": null,
      "outputs": [
        {
          "output_type": "stream",
          "name": "stdout",
          "text": [
            "              precision    recall  f1-score   support\n",
            "\n",
            "     turn_on       0.80      1.00      0.89         4\n",
            "    turn_off       1.00      0.75      0.86         4\n",
            "\n",
            "    accuracy                           0.88         8\n",
            "   macro avg       0.90      0.88      0.87         8\n",
            "weighted avg       0.90      0.88      0.87         8\n",
            "\n"
          ]
        }
      ]
    },
    {
      "cell_type": "code",
      "metadata": {
        "id": "_0Po-y3VUjiE"
      },
      "source": [
        "save_model(model, './model_1dconv_e{}-bs{}-a{:.2f}-va{:.2f}.h5'.format(EPOCHS, BATCH_SIZE, 100*r.history['accuracy'][-1], 100*r.history['val_accuracy'][-1]))"
      ],
      "execution_count": null,
      "outputs": []
    },
    {
      "cell_type": "code",
      "metadata": {
        "id": "ymBuiNNmgkY-"
      },
      "source": [
        "model.save_weights('./model_1dconv_weights_e{}-bs{}-a{:.2f}-va{:.2f}.h5'.format(EPOCHS, BATCH_SIZE, 100*r.history['accuracy'][-1], 100*r.history['val_accuracy'][-1]))"
      ],
      "execution_count": null,
      "outputs": []
    },
    {
      "cell_type": "code",
      "metadata": {
        "id": "1kAMmBVZtBJN"
      },
      "source": [
        "def plot_confusion_matrix_custom(cm, classes, normalize=False, title='Confusion matrix', cmap='PuBu'):\n",
        "    import itertools\n",
        "    plt.figure(figsize=[5, 4])\n",
        "    plt.grid(False)\n",
        "    if normalize:\n",
        "        cm = cm.astype('float') / cm.sum(axis=1)[:, np.newaxis]\n",
        "\n",
        "    plt.imshow(cm, interpolation='nearest', cmap=cmap)\n",
        "    plt.title(title)\n",
        "\n",
        "    plt.colorbar()\n",
        "    tick_marks = np.arange(len(classes))\n",
        "    plt.xticks(tick_marks, classes, rotation=45)\n",
        "    plt.yticks(tick_marks, classes)\n",
        "\n",
        "    fmt = '.2f' if normalize else 'd'\n",
        "    thresh = cm.max() / 2.\n",
        "    for i, j in itertools.product(range(cm.shape[0]), range(cm.shape[1])):\n",
        "        plt.text(j, i, format(cm[i, j], fmt),\n",
        "                 horizontalalignment=\"center\",\n",
        "                 color=\"white\" if cm[i, j] > thresh else \"black\")\n",
        "\n",
        "    plt.ylabel('True label')\n",
        "    plt.xlabel('Predicted label')\n",
        "    plt.tight_layout()\n",
        "    plt.savefig(\"./1DCNN_cm.png\", dpi=300, transparent=True, bbox=\"tight\", pad=0)\n",
        "    plt.show()"
      ],
      "execution_count": null,
      "outputs": []
    },
    {
      "cell_type": "code",
      "metadata": {
        "id": "dvzDQF_sZJJi",
        "colab": {
          "base_uri": "https://localhost:8080/",
          "height": 287
        },
        "outputId": "58a2d9ae-c3b0-49d5-9e80-1d25274e2a60"
      },
      "source": [
        "from sklearn.metrics import confusion_matrix\n",
        "from mlxtend.plotting import plot_confusion_matrix\n",
        "\n",
        "confusion_matrix_output = confusion_matrix(y_test, preds)\n",
        "plot_confusion_matrix_custom(confusion_matrix_output, classes=['turn_on', 'turn_off'], title='Confusion matrix')"
      ],
      "execution_count": null,
      "outputs": [
        {
          "output_type": "display_data",
          "data": {
            "text/plain": [
              "<Figure size 360x288 with 2 Axes>"
            ],
            "image/png": "[encoded data removed]"
          },
          "metadata": {
            "needs_background": "light"
          }
        }
      ]
    },
    {
      "cell_type": "code",
      "metadata": {
        "id": "bPmhyMU4ZWJs"
      },
      "source": [
        "from sklearn.metrics import roc_curve, auc\n",
        "from numpy import interp\n",
        "from itertools import cycle\n",
        "def plot_custom_roc(y_test, preds):\n",
        "  plt.figure(figsize=[10,8])\n",
        "  fpr, tpr, _ = roc_curve(y_test, preds)\n",
        "  roc_auc = auc(fpr, tpr)\n",
        "  lw = 2\n",
        "  plt.plot(fpr, tpr, color='darkorange',\n",
        "  lw=lw, label='ROC curve (area = %0.2f)' % roc_auc)\n",
        "  plt.plot([0, 1], [0, 1], color='navy', lw=lw, linestyle='--')\n",
        "  plt.xlim([0.0, 1.0])\n",
        "  plt.ylim([0.0, 1.05])\n",
        "  plt.xlabel('False Positive Rate')\n",
        "  plt.ylabel('True Positive Rate')\n",
        "  plt.title('Receiver operating characteristic example')\n",
        "  plt.legend(loc=\"lower right\")\n",
        "  plt.tight_layout()\n",
        "  plt.savefig(\"./1DCNN_roc.png\", dpi=300, transparent=True, bbox=\"tight\", pad=0)\n",
        "  plt.show()"
      ],
      "execution_count": null,
      "outputs": []
    },
    {
      "cell_type": "code",
      "metadata": {
        "id": "Y5Aniot8Z2r8",
        "colab": {
          "base_uri": "https://localhost:8080/",
          "height": 575
        },
        "outputId": "f4abae38-d3c5-4755-b41d-58b41c1f5748"
      },
      "source": [
        "plot_custom_roc(y_test, preds)"
      ],
      "execution_count": null,
      "outputs": [
        {
          "output_type": "display_data",
          "data": {
            "text/plain": [
              "<Figure size 720x576 with 1 Axes>"
            ],
            "image/png": "[encoded data removed]"
          },
          "metadata": {
            "needs_background": "light"
          }
        }
      ]
    },
    {
      "cell_type": "code",
      "metadata": {
        "id": "QFzdVtA5dRBV"
      },
      "source": [
        ""
      ],
      "execution_count": null,
      "outputs": []
    }
  ]
}